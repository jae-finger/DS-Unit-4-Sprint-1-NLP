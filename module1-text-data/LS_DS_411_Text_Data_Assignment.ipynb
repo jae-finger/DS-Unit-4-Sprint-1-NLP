{
 "cells": [
  {
   "cell_type": "markdown",
   "metadata": {},
   "source": [
    "<img align=\"left\" src=\"https://lever-client-logos.s3.amazonaws.com/864372b1-534c-480e-acd5-9711f850815c-1524247202159.png\" width=200>\n",
    "<br></br>\n",
    "<br></br>\n",
    "\n",
    "# Natural Language Processing (NLP)\n",
    "## *Data Science Unit 4 Sprint 1 Assignment 1*\n",
    "\n",
    "Your goal in this assignment: find the attributes of the best & worst coffee shops in the dataset. The text is fairly raw: dates in the review, extra words in the `star_rating` column, etc. You'll probably want to clean that stuff up for a better analysis. \n",
    "\n",
    "Analyze the corpus of text using text visualizations of token frequency. Try cleaning the data as much as possible. Try the following techniques: \n",
    "- Lemmatization __[X]__\n",
    "- Custom stopword removal __[X]__\n",
    "\n",
    "Keep in mind the attributes of good tokens. Once you have a solid baseline, layer in the star rating in your visualization(s). Key part of this assignment - produce a write-up of the attributes of the best and worst coffee shops. Based on your analysis, what makes the best the best and the worst the worst. Use graphs and numbers from your analysis to support your conclusions. There should be plenty of markdown cells! :coffee:"
   ]
  },
  {
   "cell_type": "code",
   "execution_count": 1,
   "metadata": {},
   "outputs": [
    {
     "data": {
      "image/jpeg": "[encoded data removed]",
      "text/html": [
       "\n",
       "        <iframe\n",
       "            width=\"400\"\n",
       "            height=\"300\"\n",
       "            src=\"https://www.youtube.com/embed/Jml7NVYm8cs\"\n",
       "            frameborder=\"0\"\n",
       "            allowfullscreen\n",
       "        ></iframe>\n",
       "        "
      ],
      "text/plain": [
       "<IPython.lib.display.YouTubeVideo at 0x10d7d4da0>"
      ]
     },
     "execution_count": 1,
     "metadata": {},
     "output_type": "execute_result"
    }
   ],
   "source": [
    "from IPython.display import YouTubeVideo\n",
    "\n",
    "YouTubeVideo('Jml7NVYm8cs')"
   ]
  },
  {
   "cell_type": "code",
   "execution_count": 2,
   "metadata": {},
   "outputs": [
    {
     "data": {
      "text/plain": [
       "'/Users/jonfinger/lambda/DS-Unit-4-Sprint-1-NLP/module1-text-data'"
      ]
     },
     "execution_count": 2,
     "metadata": {},
     "output_type": "execute_result"
    }
   ],
   "source": [
    "%pwd"
   ]
  },
  {
   "cell_type": "code",
   "execution_count": 3,
   "metadata": {},
   "outputs": [
    {
     "data": {
      "text/html": [
       "<div>\n",
       "<style scoped>\n",
       "    .dataframe tbody tr th:only-of-type {\n",
       "        vertical-align: middle;\n",
       "    }\n",
       "\n",
       "    .dataframe tbody tr th {\n",
       "        vertical-align: top;\n",
       "    }\n",
       "\n",
       "    .dataframe thead th {\n",
       "        text-align: right;\n",
       "    }\n",
       "</style>\n",
       "<table border=\"1\" class=\"dataframe\">\n",
       "  <thead>\n",
       "    <tr style=\"text-align: right;\">\n",
       "      <th></th>\n",
       "      <th>coffee_shop_name</th>\n",
       "      <th>full_review_text</th>\n",
       "      <th>star_rating</th>\n",
       "    </tr>\n",
       "  </thead>\n",
       "  <tbody>\n",
       "    <tr>\n",
       "      <th>0</th>\n",
       "      <td>The Factory - Cafe With a Soul</td>\n",
       "      <td>11/25/2016 1 check-in Love love loved the atm...</td>\n",
       "      <td>5.0 star rating</td>\n",
       "    </tr>\n",
       "    <tr>\n",
       "      <th>1</th>\n",
       "      <td>The Factory - Cafe With a Soul</td>\n",
       "      <td>12/2/2016 Listed in Date Night: Austin, Ambia...</td>\n",
       "      <td>4.0 star rating</td>\n",
       "    </tr>\n",
       "    <tr>\n",
       "      <th>2</th>\n",
       "      <td>The Factory - Cafe With a Soul</td>\n",
       "      <td>11/30/2016 1 check-in Listed in Brunch Spots ...</td>\n",
       "      <td>4.0 star rating</td>\n",
       "    </tr>\n",
       "    <tr>\n",
       "      <th>3</th>\n",
       "      <td>The Factory - Cafe With a Soul</td>\n",
       "      <td>11/25/2016 Very cool decor! Good drinks Nice ...</td>\n",
       "      <td>2.0 star rating</td>\n",
       "    </tr>\n",
       "    <tr>\n",
       "      <th>4</th>\n",
       "      <td>The Factory - Cafe With a Soul</td>\n",
       "      <td>12/3/2016 1 check-in They are located within ...</td>\n",
       "      <td>4.0 star rating</td>\n",
       "    </tr>\n",
       "  </tbody>\n",
       "</table>\n",
       "</div>"
      ],
      "text/plain": [
       "                  coffee_shop_name  \\\n",
       "0  The Factory - Cafe With a Soul    \n",
       "1  The Factory - Cafe With a Soul    \n",
       "2  The Factory - Cafe With a Soul    \n",
       "3  The Factory - Cafe With a Soul    \n",
       "4  The Factory - Cafe With a Soul    \n",
       "\n",
       "                                    full_review_text        star_rating  \n",
       "0   11/25/2016 1 check-in Love love loved the atm...   5.0 star rating   \n",
       "1   12/2/2016 Listed in Date Night: Austin, Ambia...   4.0 star rating   \n",
       "2   11/30/2016 1 check-in Listed in Brunch Spots ...   4.0 star rating   \n",
       "3   11/25/2016 Very cool decor! Good drinks Nice ...   2.0 star rating   \n",
       "4   12/3/2016 1 check-in They are located within ...   4.0 star rating   "
      ]
     },
     "execution_count": 3,
     "metadata": {},
     "output_type": "execute_result"
    }
   ],
   "source": [
    "import pandas as pd\n",
    "\n",
    "url = \"https://raw.githubusercontent.com/LambdaSchool/DS-Unit-4-Sprint-1-NLP/master/module1-text-data/data/yelp_coffeeshop_review_data.csv\"\n",
    "\n",
    "shops = pd.read_csv(url)\n",
    "shops.head()"
   ]
  },
  {
   "cell_type": "code",
   "execution_count": 4,
   "metadata": {},
   "outputs": [],
   "source": [
    "# Import Packages\n",
    "\n",
    "# Plotting\n",
    "import squarify\n",
    "import matplotlib.pyplot as plt\n",
    "import seaborn as sns\n",
    "\n",
    "# NLP Libraries\n",
    "import re\n",
    "from nltk.stem import PorterStemmer\n",
    "import spacy\n",
    "from spacy.tokenizer import Tokenizer"
   ]
  },
  {
   "cell_type": "code",
   "execution_count": 5,
   "metadata": {},
   "outputs": [],
   "source": [
    "# Bring the handy counting function from lecture\n",
    "from collections import Counter\n",
    "def count(docs):\n",
    "    '''This function takes a list of tokenized documents as input and returns\n",
    "    a dataframe with \n",
    "    \n",
    "    # Arguments\n",
    "        docs: list, tokenized list of documents\n",
    "        \n",
    "    # Returns\n",
    "        wc: dataframe, \n",
    "    '''\n",
    "    \n",
    "    word_counts = Counter()\n",
    "    appears_in = Counter()\n",
    "\n",
    "    total_docs = len(docs)\n",
    "\n",
    "    for doc in docs:\n",
    "        word_counts.update(doc)\n",
    "        appears_in.update(set(doc))\n",
    "\n",
    "    temp = zip(word_counts.keys(), word_counts.values())\n",
    "\n",
    "    wc = pd.DataFrame(temp, columns = ['word', 'count'])\n",
    "\n",
    "    wc['rank'] = wc['count'].rank(method='first', ascending=False)\n",
    "    total = wc['count'].sum()\n",
    "\n",
    "    wc['pct_total'] = wc['count'].apply(lambda x: x / total)\n",
    "\n",
    "    wc = wc.sort_values(by='rank')\n",
    "    wc['cul_pct_total'] = wc['pct_total'].cumsum()\n",
    "\n",
    "    t2 = zip(appears_in.keys(), appears_in.values())\n",
    "    ac = pd.DataFrame(t2, columns=['word', 'appears_in'])\n",
    "    wc = ac.merge(wc, on='word')\n",
    "\n",
    "    wc['appears_in_pct'] = wc['appears_in'].apply(lambda x: x / total_docs)\n",
    "\n",
    "    return wc.sort_values(by='rank')"
   ]
  },
  {
   "cell_type": "code",
   "execution_count": 6,
   "metadata": {},
   "outputs": [
    {
     "data": {
      "text/html": [
       "<div>\n",
       "<style scoped>\n",
       "    .dataframe tbody tr th:only-of-type {\n",
       "        vertical-align: middle;\n",
       "    }\n",
       "\n",
       "    .dataframe tbody tr th {\n",
       "        vertical-align: top;\n",
       "    }\n",
       "\n",
       "    .dataframe thead th {\n",
       "        text-align: right;\n",
       "    }\n",
       "</style>\n",
       "<table border=\"1\" class=\"dataframe\">\n",
       "  <thead>\n",
       "    <tr style=\"text-align: right;\">\n",
       "      <th></th>\n",
       "      <th>coffee_shop_name</th>\n",
       "      <th>full_review_text</th>\n",
       "      <th>star_rating</th>\n",
       "      <th>review_no_date</th>\n",
       "    </tr>\n",
       "  </thead>\n",
       "  <tbody>\n",
       "    <tr>\n",
       "      <th>0</th>\n",
       "      <td>The Factory - Cafe With a Soul</td>\n",
       "      <td>11/25/2016 1 check-in Love love loved the atm...</td>\n",
       "      <td>5.0 star rating</td>\n",
       "      <td>checkin love love loved the atmosphere every...</td>\n",
       "    </tr>\n",
       "    <tr>\n",
       "      <th>1</th>\n",
       "      <td>The Factory - Cafe With a Soul</td>\n",
       "      <td>12/2/2016 Listed in Date Night: Austin, Ambia...</td>\n",
       "      <td>4.0 star rating</td>\n",
       "      <td>listed in date night austin ambiance in austi...</td>\n",
       "    </tr>\n",
       "    <tr>\n",
       "      <th>2</th>\n",
       "      <td>The Factory - Cafe With a Soul</td>\n",
       "      <td>11/30/2016 1 check-in Listed in Brunch Spots ...</td>\n",
       "      <td>4.0 star rating</td>\n",
       "      <td>checkin listed in brunch spots i loved the e...</td>\n",
       "    </tr>\n",
       "    <tr>\n",
       "      <th>3</th>\n",
       "      <td>The Factory - Cafe With a Soul</td>\n",
       "      <td>11/25/2016 Very cool decor! Good drinks Nice ...</td>\n",
       "      <td>2.0 star rating</td>\n",
       "      <td>very cool decor good drinks nice seating  how...</td>\n",
       "    </tr>\n",
       "    <tr>\n",
       "      <th>4</th>\n",
       "      <td>The Factory - Cafe With a Soul</td>\n",
       "      <td>12/3/2016 1 check-in They are located within ...</td>\n",
       "      <td>4.0 star rating</td>\n",
       "      <td>checkin they are located within the northcro...</td>\n",
       "    </tr>\n",
       "    <tr>\n",
       "      <th>5</th>\n",
       "      <td>The Factory - Cafe With a Soul</td>\n",
       "      <td>11/20/2016 1 check-in Very cute cafe! I think...</td>\n",
       "      <td>4.0 star rating</td>\n",
       "      <td>checkin very cute cafe i think from the mome...</td>\n",
       "    </tr>\n",
       "    <tr>\n",
       "      <th>6</th>\n",
       "      <td>The Factory - Cafe With a Soul</td>\n",
       "      <td>10/27/2016 2 check-ins Listed in \"Nuptial Cof...</td>\n",
       "      <td>4.0 star rating</td>\n",
       "      <td>checkins listed in nuptial coffee bliss ande...</td>\n",
       "    </tr>\n",
       "    <tr>\n",
       "      <th>7</th>\n",
       "      <td>The Factory - Cafe With a Soul</td>\n",
       "      <td>11/2/2016 2 check-ins Love this place!  5 sta...</td>\n",
       "      <td>5.0 star rating</td>\n",
       "      <td>checkins love this place   stars for cleanli...</td>\n",
       "    </tr>\n",
       "    <tr>\n",
       "      <th>8</th>\n",
       "      <td>The Factory - Cafe With a Soul</td>\n",
       "      <td>10/25/2016 1 check-in Ok, let's try this appr...</td>\n",
       "      <td>3.0 star rating</td>\n",
       "      <td>checkin ok lets try this approach  pros musi...</td>\n",
       "    </tr>\n",
       "    <tr>\n",
       "      <th>9</th>\n",
       "      <td>The Factory - Cafe With a Soul</td>\n",
       "      <td>11/10/2016 3 check-ins This place has been sh...</td>\n",
       "      <td>5.0 star rating</td>\n",
       "      <td>checkins this place has been shown on my soc...</td>\n",
       "    </tr>\n",
       "  </tbody>\n",
       "</table>\n",
       "</div>"
      ],
      "text/plain": [
       "                  coffee_shop_name  \\\n",
       "0  The Factory - Cafe With a Soul    \n",
       "1  The Factory - Cafe With a Soul    \n",
       "2  The Factory - Cafe With a Soul    \n",
       "3  The Factory - Cafe With a Soul    \n",
       "4  The Factory - Cafe With a Soul    \n",
       "5  The Factory - Cafe With a Soul    \n",
       "6  The Factory - Cafe With a Soul    \n",
       "7  The Factory - Cafe With a Soul    \n",
       "8  The Factory - Cafe With a Soul    \n",
       "9  The Factory - Cafe With a Soul    \n",
       "\n",
       "                                    full_review_text        star_rating  \\\n",
       "0   11/25/2016 1 check-in Love love loved the atm...   5.0 star rating    \n",
       "1   12/2/2016 Listed in Date Night: Austin, Ambia...   4.0 star rating    \n",
       "2   11/30/2016 1 check-in Listed in Brunch Spots ...   4.0 star rating    \n",
       "3   11/25/2016 Very cool decor! Good drinks Nice ...   2.0 star rating    \n",
       "4   12/3/2016 1 check-in They are located within ...   4.0 star rating    \n",
       "5   11/20/2016 1 check-in Very cute cafe! I think...   4.0 star rating    \n",
       "6   10/27/2016 2 check-ins Listed in \"Nuptial Cof...   4.0 star rating    \n",
       "7   11/2/2016 2 check-ins Love this place!  5 sta...   5.0 star rating    \n",
       "8   10/25/2016 1 check-in Ok, let's try this appr...   3.0 star rating    \n",
       "9   11/10/2016 3 check-ins This place has been sh...   5.0 star rating    \n",
       "\n",
       "                                      review_no_date  \n",
       "0    checkin love love loved the atmosphere every...  \n",
       "1   listed in date night austin ambiance in austi...  \n",
       "2    checkin listed in brunch spots i loved the e...  \n",
       "3   very cool decor good drinks nice seating  how...  \n",
       "4    checkin they are located within the northcro...  \n",
       "5    checkin very cute cafe i think from the mome...  \n",
       "6    checkins listed in nuptial coffee bliss ande...  \n",
       "7    checkins love this place   stars for cleanli...  \n",
       "8    checkin ok lets try this approach  pros musi...  \n",
       "9    checkins this place has been shown on my soc...  "
      ]
     },
     "execution_count": 6,
     "metadata": {},
     "output_type": "execute_result"
    }
   ],
   "source": [
    "# Cleaning up data\n",
    "\n",
    "# Removing dates from  using reg ex\n",
    "new_review = []\n",
    "for shop in shops['full_review_text']:\n",
    "    shop = shop.lower().lstrip()\n",
    "    subbed_sample = (re.sub('[^a-zA-Z ]', '', shop))\n",
    "    new_review.append(subbed_sample)\n",
    "shops['review_no_date'] = new_review\n",
    "shops.head(10)\n"
   ]
  },
  {
   "cell_type": "code",
   "execution_count": 38,
   "metadata": {},
   "outputs": [
    {
     "data": {
      "text/html": [
       "<div>\n",
       "<style scoped>\n",
       "    .dataframe tbody tr th:only-of-type {\n",
       "        vertical-align: middle;\n",
       "    }\n",
       "\n",
       "    .dataframe tbody tr th {\n",
       "        vertical-align: top;\n",
       "    }\n",
       "\n",
       "    .dataframe thead th {\n",
       "        text-align: right;\n",
       "    }\n",
       "</style>\n",
       "<table border=\"1\" class=\"dataframe\">\n",
       "  <thead>\n",
       "    <tr style=\"text-align: right;\">\n",
       "      <th></th>\n",
       "      <th>coffee_shop_name</th>\n",
       "      <th>full_review_text</th>\n",
       "      <th>star_rating</th>\n",
       "      <th>review_no_date</th>\n",
       "      <th>pure_rating</th>\n",
       "      <th>spaCy_review_tokens</th>\n",
       "      <th>lemmas</th>\n",
       "    </tr>\n",
       "  </thead>\n",
       "  <tbody>\n",
       "    <tr>\n",
       "      <th>0</th>\n",
       "      <td>The Factory - Cafe With a Soul</td>\n",
       "      <td>11/25/2016 1 check-in Love love loved the atm...</td>\n",
       "      <td>5.0 star rating</td>\n",
       "      <td>checkin love love loved the atmosphere every...</td>\n",
       "      <td>5</td>\n",
       "      <td>[love, love, loved, atmosphere, corner, coffee...</td>\n",
       "      <td>[love, love, love, atmosphere, corner, coffee,...</td>\n",
       "    </tr>\n",
       "    <tr>\n",
       "      <th>1</th>\n",
       "      <td>The Factory - Cafe With a Soul</td>\n",
       "      <td>12/2/2016 Listed in Date Night: Austin, Ambia...</td>\n",
       "      <td>4.0 star rating</td>\n",
       "      <td>listed in date night austin ambiance in austi...</td>\n",
       "      <td>4</td>\n",
       "      <td>[listed, date, night, austin, ambiance, austin...</td>\n",
       "      <td>[list, date, night, austin, ambiance, austin, ...</td>\n",
       "    </tr>\n",
       "    <tr>\n",
       "      <th>2</th>\n",
       "      <td>The Factory - Cafe With a Soul</td>\n",
       "      <td>11/30/2016 1 check-in Listed in Brunch Spots ...</td>\n",
       "      <td>4.0 star rating</td>\n",
       "      <td>checkin listed in brunch spots i loved the e...</td>\n",
       "      <td>4</td>\n",
       "      <td>[listed, brunch, spots, loved, eclectic, homey...</td>\n",
       "      <td>[list, brunch, spot, love, eclectic, homey, pl...</td>\n",
       "    </tr>\n",
       "    <tr>\n",
       "      <th>3</th>\n",
       "      <td>The Factory - Cafe With a Soul</td>\n",
       "      <td>11/25/2016 Very cool decor! Good drinks Nice ...</td>\n",
       "      <td>2.0 star rating</td>\n",
       "      <td>very cool decor good drinks nice seating  how...</td>\n",
       "      <td>2</td>\n",
       "      <td>[cool, decor, good, drinks, nice, seating, ove...</td>\n",
       "      <td>[cool, decor, good, drink, nice, seating, over...</td>\n",
       "    </tr>\n",
       "    <tr>\n",
       "      <th>4</th>\n",
       "      <td>The Factory - Cafe With a Soul</td>\n",
       "      <td>12/3/2016 1 check-in They are located within ...</td>\n",
       "      <td>4.0 star rating</td>\n",
       "      <td>checkin they are located within the northcro...</td>\n",
       "      <td>4</td>\n",
       "      <td>[located, northcross, mall, shopping, center, ...</td>\n",
       "      <td>[locate, northcross, mall, shopping, center, f...</td>\n",
       "    </tr>\n",
       "  </tbody>\n",
       "</table>\n",
       "</div>"
      ],
      "text/plain": [
       "                  coffee_shop_name  \\\n",
       "0  The Factory - Cafe With a Soul    \n",
       "1  The Factory - Cafe With a Soul    \n",
       "2  The Factory - Cafe With a Soul    \n",
       "3  The Factory - Cafe With a Soul    \n",
       "4  The Factory - Cafe With a Soul    \n",
       "\n",
       "                                    full_review_text        star_rating  \\\n",
       "0   11/25/2016 1 check-in Love love loved the atm...   5.0 star rating    \n",
       "1   12/2/2016 Listed in Date Night: Austin, Ambia...   4.0 star rating    \n",
       "2   11/30/2016 1 check-in Listed in Brunch Spots ...   4.0 star rating    \n",
       "3   11/25/2016 Very cool decor! Good drinks Nice ...   2.0 star rating    \n",
       "4   12/3/2016 1 check-in They are located within ...   4.0 star rating    \n",
       "\n",
       "                                      review_no_date  pure_rating  \\\n",
       "0    checkin love love loved the atmosphere every...            5   \n",
       "1   listed in date night austin ambiance in austi...            4   \n",
       "2    checkin listed in brunch spots i loved the e...            4   \n",
       "3   very cool decor good drinks nice seating  how...            2   \n",
       "4    checkin they are located within the northcro...            4   \n",
       "\n",
       "                                 spaCy_review_tokens  \\\n",
       "0  [love, love, loved, atmosphere, corner, coffee...   \n",
       "1  [listed, date, night, austin, ambiance, austin...   \n",
       "2  [listed, brunch, spots, loved, eclectic, homey...   \n",
       "3  [cool, decor, good, drinks, nice, seating, ove...   \n",
       "4  [located, northcross, mall, shopping, center, ...   \n",
       "\n",
       "                                              lemmas  \n",
       "0  [love, love, love, atmosphere, corner, coffee,...  \n",
       "1  [list, date, night, austin, ambiance, austin, ...  \n",
       "2  [list, brunch, spot, love, eclectic, homey, pl...  \n",
       "3  [cool, decor, good, drink, nice, seating, over...  \n",
       "4  [locate, northcross, mall, shopping, center, f...  "
      ]
     },
     "execution_count": 38,
     "metadata": {},
     "output_type": "execute_result"
    }
   ],
   "source": [
    "#Remove words from star_rating\n",
    "new_rating = []\n",
    "for shop in shops['star_rating']:\n",
    "    subbed_review = re.sub('[^1-9 ]', '', shop)\n",
    "    subbed_review = int(subbed_review)\n",
    "    new_rating.append(subbed_review)\n",
    "shops['pure_rating'] = new_rating\n",
    "shops.head()"
   ]
  },
  {
   "cell_type": "code",
   "execution_count": 8,
   "metadata": {},
   "outputs": [],
   "source": [
    "# Load spacy model\n",
    "nlp = spacy.load(\"en_core_web_lg\")\n",
    "tokenizer = Tokenizer(nlp.vocab)"
   ]
  },
  {
   "cell_type": "code",
   "execution_count": 9,
   "metadata": {},
   "outputs": [],
   "source": [
    "# Adding to stop words\n",
    "STOP_WORDS = nlp.Defaults.stop_words.union(['checkin',' ', '  ', '    ', '   '])\n"
   ]
  },
  {
   "cell_type": "code",
   "execution_count": 10,
   "metadata": {},
   "outputs": [
    {
     "data": {
      "text/plain": [
       "0    [love, love, loved, atmosphere, corner, coffee...\n",
       "1    [listed, date, night, austin, ambiance, austin...\n",
       "2    [listed, brunch, spots, loved, eclectic, homey...\n",
       "3    [cool, decor, good, drinks, nice, seating, ove...\n",
       "4    [located, northcross, mall, shopping, center, ...\n",
       "Name: spaCy_review_tokens, dtype: object"
      ]
     },
     "execution_count": 10,
     "metadata": {},
     "output_type": "execute_result"
    }
   ],
   "source": [
    "# Print out list of tokens\n",
    "# Make them tokens using the Tokenizer Pipe\n",
    "\n",
    "tokens = []\n",
    "for doc in tokenizer.pipe(shops['review_no_date'], batch_size=500):\n",
    "    \n",
    "    doc_tokens = []\n",
    "    for token in doc: \n",
    "        if token.text.lower() not in STOP_WORDS:\n",
    "            doc_tokens.append(token.text.lower())\n",
    "   \n",
    "    tokens.append(doc_tokens)\n",
    "\n",
    "shops['spaCy_review_tokens'] = tokens\n",
    "shops['spaCy_review_tokens'].head()\n"
   ]
  },
  {
   "cell_type": "markdown",
   "metadata": {},
   "source": [
    "## How do we want to analyze these coffee shop tokens? \n",
    "\n",
    "- Overall Word / Token Count __[X]__\n",
    "- View Word/Token Counts by Rating \n",
    "- *Hint:* a 'bad' coffee shops has a rating betweeen 1 & 3 based on the distribution of ratings. A 'good' coffee shop is a 4 or 5. "
   ]
  },
  {
   "cell_type": "code",
   "execution_count": 11,
   "metadata": {},
   "outputs": [
    {
     "name": "stdout",
     "output_type": "stream",
     "text": [
      "(19565, 7)\n"
     ]
    },
    {
     "data": {
      "text/html": [
       "<div>\n",
       "<style scoped>\n",
       "    .dataframe tbody tr th:only-of-type {\n",
       "        vertical-align: middle;\n",
       "    }\n",
       "\n",
       "    .dataframe tbody tr th {\n",
       "        vertical-align: top;\n",
       "    }\n",
       "\n",
       "    .dataframe thead th {\n",
       "        text-align: right;\n",
       "    }\n",
       "</style>\n",
       "<table border=\"1\" class=\"dataframe\">\n",
       "  <thead>\n",
       "    <tr style=\"text-align: right;\">\n",
       "      <th></th>\n",
       "      <th>word</th>\n",
       "      <th>appears_in</th>\n",
       "      <th>count</th>\n",
       "      <th>rank</th>\n",
       "      <th>pct_total</th>\n",
       "      <th>cul_pct_total</th>\n",
       "      <th>appears_in_pct</th>\n",
       "    </tr>\n",
       "  </thead>\n",
       "  <tbody>\n",
       "    <tr>\n",
       "      <th>19</th>\n",
       "      <td>coffee</td>\n",
       "      <td>4877</td>\n",
       "      <td>10354</td>\n",
       "      <td>1.0</td>\n",
       "      <td>0.028850</td>\n",
       "      <td>0.028850</td>\n",
       "      <td>0.640362</td>\n",
       "    </tr>\n",
       "    <tr>\n",
       "      <th>115</th>\n",
       "      <td>place</td>\n",
       "      <td>3659</td>\n",
       "      <td>5426</td>\n",
       "      <td>2.0</td>\n",
       "      <td>0.015119</td>\n",
       "      <td>0.043969</td>\n",
       "      <td>0.480436</td>\n",
       "    </tr>\n",
       "    <tr>\n",
       "      <th>150</th>\n",
       "      <td>good</td>\n",
       "      <td>2788</td>\n",
       "      <td>3973</td>\n",
       "      <td>3.0</td>\n",
       "      <td>0.011070</td>\n",
       "      <td>0.055039</td>\n",
       "      <td>0.366071</td>\n",
       "    </tr>\n",
       "    <tr>\n",
       "      <th>138</th>\n",
       "      <td>great</td>\n",
       "      <td>2836</td>\n",
       "      <td>3919</td>\n",
       "      <td>4.0</td>\n",
       "      <td>0.010920</td>\n",
       "      <td>0.065959</td>\n",
       "      <td>0.372374</td>\n",
       "    </tr>\n",
       "    <tr>\n",
       "      <th>155</th>\n",
       "      <td>like</td>\n",
       "      <td>2124</td>\n",
       "      <td>3088</td>\n",
       "      <td>5.0</td>\n",
       "      <td>0.008604</td>\n",
       "      <td>0.074563</td>\n",
       "      <td>0.278887</td>\n",
       "    </tr>\n",
       "  </tbody>\n",
       "</table>\n",
       "</div>"
      ],
      "text/plain": [
       "       word  appears_in  count  rank  pct_total  cul_pct_total  appears_in_pct\n",
       "19   coffee        4877  10354   1.0   0.028850       0.028850        0.640362\n",
       "115   place        3659   5426   2.0   0.015119       0.043969        0.480436\n",
       "150    good        2788   3973   3.0   0.011070       0.055039        0.366071\n",
       "138   great        2836   3919   4.0   0.010920       0.065959        0.372374\n",
       "155    like        2124   3088   5.0   0.008604       0.074563        0.278887"
      ]
     },
     "execution_count": 11,
     "metadata": {},
     "output_type": "execute_result"
    }
   ],
   "source": [
    "# Shape and head of new tokens\n",
    "wc = count(shops['spaCy_review_tokens'])\n",
    "print(wc.shape)\n",
    "wc.head()"
   ]
  },
  {
   "cell_type": "code",
   "execution_count": 12,
   "metadata": {},
   "outputs": [
    {
     "data": {
      "image/png": "[encoded data removed]",
      "text/plain": [
       "<Figure size 576x576 with 1 Axes>"
      ]
     },
     "metadata": {
      "needs_background": "light"
     },
     "output_type": "display_data"
    }
   ],
   "source": [
    "# See a squarify word cloud (top 20) for the reviews\n",
    "wc_top20 = wc[wc['rank'] <= 20]\n",
    "\n",
    "plt.figure(figsize=(8,8))\n",
    "squarify.plot(sizes=wc_top20['pct_total'], label=wc_top20['word'], alpha=.8 )\n",
    "plt.axis('off')\n",
    "plt.show()"
   ]
  },
  {
   "cell_type": "code",
   "execution_count": 13,
   "metadata": {},
   "outputs": [],
   "source": [
    "# Let's try lemmatizing it\n",
    "def get_lemmas(text):\n",
    "\n",
    "    doc = nlp(text)\n",
    "    \n",
    "    lemmas = []\n",
    "    for token in doc: \n",
    "        if ((token.is_stop == False) and (token.is_punct == False)) and (token.pos_ != 'PRON') and (token.text.lower() not in STOP_WORDS):\n",
    "            lemmas.append(token.lemma_)\n",
    "    \n",
    "    return lemmas"
   ]
  },
  {
   "cell_type": "code",
   "execution_count": 14,
   "metadata": {},
   "outputs": [
    {
     "data": {
      "text/plain": [
       "0    [love, love, love, atmosphere, corner, coffee,...\n",
       "1    [list, date, night, austin, ambiance, austin, ...\n",
       "2    [list, brunch, spot, love, eclectic, homey, pl...\n",
       "3    [cool, decor, good, drink, nice, seating, over...\n",
       "4    [locate, northcross, mall, shopping, center, f...\n",
       "Name: lemmas, dtype: object"
      ]
     },
     "execution_count": 14,
     "metadata": {},
     "output_type": "execute_result"
    }
   ],
   "source": [
    "# # Create column of review lemmas for both good and bad\n",
    "\n",
    "shops['lemmas'] = shops['review_no_date'].apply(get_lemmas)\n",
    "shops['lemmas'].head()"
   ]
  },
  {
   "cell_type": "code",
   "execution_count": 42,
   "metadata": {},
   "outputs": [
    {
     "name": "stdout",
     "output_type": "stream",
     "text": [
      "(7616, 8)\n"
     ]
    },
    {
     "data": {
      "text/html": [
       "<div>\n",
       "<style scoped>\n",
       "    .dataframe tbody tr th:only-of-type {\n",
       "        vertical-align: middle;\n",
       "    }\n",
       "\n",
       "    .dataframe tbody tr th {\n",
       "        vertical-align: top;\n",
       "    }\n",
       "\n",
       "    .dataframe thead th {\n",
       "        text-align: right;\n",
       "    }\n",
       "</style>\n",
       "<table border=\"1\" class=\"dataframe\">\n",
       "  <thead>\n",
       "    <tr style=\"text-align: right;\">\n",
       "      <th></th>\n",
       "      <th>coffee_shop_name</th>\n",
       "      <th>full_review_text</th>\n",
       "      <th>star_rating</th>\n",
       "      <th>review_no_date</th>\n",
       "      <th>pure_rating</th>\n",
       "      <th>spaCy_review_tokens</th>\n",
       "      <th>lemmas</th>\n",
       "      <th>good_bad</th>\n",
       "    </tr>\n",
       "  </thead>\n",
       "  <tbody>\n",
       "    <tr>\n",
       "      <th>0</th>\n",
       "      <td>The Factory - Cafe With a Soul</td>\n",
       "      <td>11/25/2016 1 check-in Love love loved the atm...</td>\n",
       "      <td>5.0 star rating</td>\n",
       "      <td>checkin love love loved the atmosphere every...</td>\n",
       "      <td>5</td>\n",
       "      <td>[love, love, loved, atmosphere, corner, coffee...</td>\n",
       "      <td>[love, love, love, atmosphere, corner, coffee,...</td>\n",
       "      <td>Good</td>\n",
       "    </tr>\n",
       "    <tr>\n",
       "      <th>1</th>\n",
       "      <td>The Factory - Cafe With a Soul</td>\n",
       "      <td>12/2/2016 Listed in Date Night: Austin, Ambia...</td>\n",
       "      <td>4.0 star rating</td>\n",
       "      <td>listed in date night austin ambiance in austi...</td>\n",
       "      <td>4</td>\n",
       "      <td>[listed, date, night, austin, ambiance, austin...</td>\n",
       "      <td>[list, date, night, austin, ambiance, austin, ...</td>\n",
       "      <td>Good</td>\n",
       "    </tr>\n",
       "    <tr>\n",
       "      <th>2</th>\n",
       "      <td>The Factory - Cafe With a Soul</td>\n",
       "      <td>11/30/2016 1 check-in Listed in Brunch Spots ...</td>\n",
       "      <td>4.0 star rating</td>\n",
       "      <td>checkin listed in brunch spots i loved the e...</td>\n",
       "      <td>4</td>\n",
       "      <td>[listed, brunch, spots, loved, eclectic, homey...</td>\n",
       "      <td>[list, brunch, spot, love, eclectic, homey, pl...</td>\n",
       "      <td>Good</td>\n",
       "    </tr>\n",
       "    <tr>\n",
       "      <th>3</th>\n",
       "      <td>The Factory - Cafe With a Soul</td>\n",
       "      <td>11/25/2016 Very cool decor! Good drinks Nice ...</td>\n",
       "      <td>2.0 star rating</td>\n",
       "      <td>very cool decor good drinks nice seating  how...</td>\n",
       "      <td>2</td>\n",
       "      <td>[cool, decor, good, drinks, nice, seating, ove...</td>\n",
       "      <td>[cool, decor, good, drink, nice, seating, over...</td>\n",
       "      <td>Bad</td>\n",
       "    </tr>\n",
       "    <tr>\n",
       "      <th>4</th>\n",
       "      <td>The Factory - Cafe With a Soul</td>\n",
       "      <td>12/3/2016 1 check-in They are located within ...</td>\n",
       "      <td>4.0 star rating</td>\n",
       "      <td>checkin they are located within the northcro...</td>\n",
       "      <td>4</td>\n",
       "      <td>[located, northcross, mall, shopping, center, ...</td>\n",
       "      <td>[locate, northcross, mall, shopping, center, f...</td>\n",
       "      <td>Good</td>\n",
       "    </tr>\n",
       "  </tbody>\n",
       "</table>\n",
       "</div>"
      ],
      "text/plain": [
       "                  coffee_shop_name  \\\n",
       "0  The Factory - Cafe With a Soul    \n",
       "1  The Factory - Cafe With a Soul    \n",
       "2  The Factory - Cafe With a Soul    \n",
       "3  The Factory - Cafe With a Soul    \n",
       "4  The Factory - Cafe With a Soul    \n",
       "\n",
       "                                    full_review_text        star_rating  \\\n",
       "0   11/25/2016 1 check-in Love love loved the atm...   5.0 star rating    \n",
       "1   12/2/2016 Listed in Date Night: Austin, Ambia...   4.0 star rating    \n",
       "2   11/30/2016 1 check-in Listed in Brunch Spots ...   4.0 star rating    \n",
       "3   11/25/2016 Very cool decor! Good drinks Nice ...   2.0 star rating    \n",
       "4   12/3/2016 1 check-in They are located within ...   4.0 star rating    \n",
       "\n",
       "                                      review_no_date  pure_rating  \\\n",
       "0    checkin love love loved the atmosphere every...            5   \n",
       "1   listed in date night austin ambiance in austi...            4   \n",
       "2    checkin listed in brunch spots i loved the e...            4   \n",
       "3   very cool decor good drinks nice seating  how...            2   \n",
       "4    checkin they are located within the northcro...            4   \n",
       "\n",
       "                                 spaCy_review_tokens  \\\n",
       "0  [love, love, loved, atmosphere, corner, coffee...   \n",
       "1  [listed, date, night, austin, ambiance, austin...   \n",
       "2  [listed, brunch, spots, loved, eclectic, homey...   \n",
       "3  [cool, decor, good, drinks, nice, seating, ove...   \n",
       "4  [located, northcross, mall, shopping, center, ...   \n",
       "\n",
       "                                              lemmas good_bad  \n",
       "0  [love, love, love, atmosphere, corner, coffee,...     Good  \n",
       "1  [list, date, night, austin, ambiance, austin, ...     Good  \n",
       "2  [list, brunch, spot, love, eclectic, homey, pl...     Good  \n",
       "3  [cool, decor, good, drink, nice, seating, over...      Bad  \n",
       "4  [locate, northcross, mall, shopping, center, f...     Good  "
      ]
     },
     "execution_count": 42,
     "metadata": {},
     "output_type": "execute_result"
    }
   ],
   "source": [
    "# Create a copy of the shops df and add column with good or bad\n",
    "df = shops.copy()\n",
    "df.loc[df['pure_rating'] >= 3, 'good_bad'] = 'Good'\n",
    "df.loc[df['pure_rating'] < 3, 'good_bad'] = 'Bad'\n",
    "print(df.shape)\n",
    "df.head()"
   ]
  },
  {
   "cell_type": "code",
   "execution_count": 44,
   "metadata": {},
   "outputs": [
    {
     "data": {
      "text/html": [
       "<div>\n",
       "<style scoped>\n",
       "    .dataframe tbody tr th:only-of-type {\n",
       "        vertical-align: middle;\n",
       "    }\n",
       "\n",
       "    .dataframe tbody tr th {\n",
       "        vertical-align: top;\n",
       "    }\n",
       "\n",
       "    .dataframe thead th {\n",
       "        text-align: right;\n",
       "    }\n",
       "</style>\n",
       "<table border=\"1\" class=\"dataframe\">\n",
       "  <thead>\n",
       "    <tr style=\"text-align: right;\">\n",
       "      <th></th>\n",
       "      <th>coffee_shop_name</th>\n",
       "      <th>full_review_text</th>\n",
       "      <th>star_rating</th>\n",
       "      <th>review_no_date</th>\n",
       "      <th>pure_rating</th>\n",
       "      <th>spaCy_review_tokens</th>\n",
       "      <th>lemmas</th>\n",
       "      <th>good_bad</th>\n",
       "    </tr>\n",
       "  </thead>\n",
       "  <tbody>\n",
       "    <tr>\n",
       "      <th>0</th>\n",
       "      <td>The Factory - Cafe With a Soul</td>\n",
       "      <td>11/25/2016 1 check-in Love love loved the atm...</td>\n",
       "      <td>5.0 star rating</td>\n",
       "      <td>checkin love love loved the atmosphere every...</td>\n",
       "      <td>5</td>\n",
       "      <td>[love, love, loved, atmosphere, corner, coffee...</td>\n",
       "      <td>[love, love, love, atmosphere, corner, coffee,...</td>\n",
       "      <td>Good</td>\n",
       "    </tr>\n",
       "    <tr>\n",
       "      <th>1</th>\n",
       "      <td>The Factory - Cafe With a Soul</td>\n",
       "      <td>12/2/2016 Listed in Date Night: Austin, Ambia...</td>\n",
       "      <td>4.0 star rating</td>\n",
       "      <td>listed in date night austin ambiance in austi...</td>\n",
       "      <td>4</td>\n",
       "      <td>[listed, date, night, austin, ambiance, austin...</td>\n",
       "      <td>[list, date, night, austin, ambiance, austin, ...</td>\n",
       "      <td>Good</td>\n",
       "    </tr>\n",
       "    <tr>\n",
       "      <th>2</th>\n",
       "      <td>The Factory - Cafe With a Soul</td>\n",
       "      <td>11/30/2016 1 check-in Listed in Brunch Spots ...</td>\n",
       "      <td>4.0 star rating</td>\n",
       "      <td>checkin listed in brunch spots i loved the e...</td>\n",
       "      <td>4</td>\n",
       "      <td>[listed, brunch, spots, loved, eclectic, homey...</td>\n",
       "      <td>[list, brunch, spot, love, eclectic, homey, pl...</td>\n",
       "      <td>Good</td>\n",
       "    </tr>\n",
       "    <tr>\n",
       "      <th>4</th>\n",
       "      <td>The Factory - Cafe With a Soul</td>\n",
       "      <td>12/3/2016 1 check-in They are located within ...</td>\n",
       "      <td>4.0 star rating</td>\n",
       "      <td>checkin they are located within the northcro...</td>\n",
       "      <td>4</td>\n",
       "      <td>[located, northcross, mall, shopping, center, ...</td>\n",
       "      <td>[locate, northcross, mall, shopping, center, f...</td>\n",
       "      <td>Good</td>\n",
       "    </tr>\n",
       "    <tr>\n",
       "      <th>5</th>\n",
       "      <td>The Factory - Cafe With a Soul</td>\n",
       "      <td>11/20/2016 1 check-in Very cute cafe! I think...</td>\n",
       "      <td>4.0 star rating</td>\n",
       "      <td>checkin very cute cafe i think from the mome...</td>\n",
       "      <td>4</td>\n",
       "      <td>[cute, cafe, think, moment, stepped, wasnt, di...</td>\n",
       "      <td>[cute, cafe, think, moment, step, not, not, fi...</td>\n",
       "      <td>Good</td>\n",
       "    </tr>\n",
       "  </tbody>\n",
       "</table>\n",
       "</div>"
      ],
      "text/plain": [
       "                  coffee_shop_name  \\\n",
       "0  The Factory - Cafe With a Soul    \n",
       "1  The Factory - Cafe With a Soul    \n",
       "2  The Factory - Cafe With a Soul    \n",
       "4  The Factory - Cafe With a Soul    \n",
       "5  The Factory - Cafe With a Soul    \n",
       "\n",
       "                                    full_review_text        star_rating  \\\n",
       "0   11/25/2016 1 check-in Love love loved the atm...   5.0 star rating    \n",
       "1   12/2/2016 Listed in Date Night: Austin, Ambia...   4.0 star rating    \n",
       "2   11/30/2016 1 check-in Listed in Brunch Spots ...   4.0 star rating    \n",
       "4   12/3/2016 1 check-in They are located within ...   4.0 star rating    \n",
       "5   11/20/2016 1 check-in Very cute cafe! I think...   4.0 star rating    \n",
       "\n",
       "                                      review_no_date  pure_rating  \\\n",
       "0    checkin love love loved the atmosphere every...            5   \n",
       "1   listed in date night austin ambiance in austi...            4   \n",
       "2    checkin listed in brunch spots i loved the e...            4   \n",
       "4    checkin they are located within the northcro...            4   \n",
       "5    checkin very cute cafe i think from the mome...            4   \n",
       "\n",
       "                                 spaCy_review_tokens  \\\n",
       "0  [love, love, loved, atmosphere, corner, coffee...   \n",
       "1  [listed, date, night, austin, ambiance, austin...   \n",
       "2  [listed, brunch, spots, loved, eclectic, homey...   \n",
       "4  [located, northcross, mall, shopping, center, ...   \n",
       "5  [cute, cafe, think, moment, stepped, wasnt, di...   \n",
       "\n",
       "                                              lemmas good_bad  \n",
       "0  [love, love, love, atmosphere, corner, coffee,...     Good  \n",
       "1  [list, date, night, austin, ambiance, austin, ...     Good  \n",
       "2  [list, brunch, spot, love, eclectic, homey, pl...     Good  \n",
       "4  [locate, northcross, mall, shopping, center, f...     Good  \n",
       "5  [cute, cafe, think, moment, step, not, not, fi...     Good  "
      ]
     },
     "execution_count": 44,
     "metadata": {},
     "output_type": "execute_result"
    }
   ],
   "source": [
    "df_good = df[df['good_bad'] == 'Good']\n",
    "df_good.head()"
   ]
  },
  {
   "cell_type": "code",
   "execution_count": 54,
   "metadata": {},
   "outputs": [],
   "source": [
    "# Create df for each prure rating\n",
    "df_1 = df[df['pure_rating'] == 1]\n",
    "df_2 = df[df['pure_rating'] == 2]\n",
    "df_3 = df[df['pure_rating'] == 3]\n",
    "df_4 = df[df['pure_rating'] == 4]\n",
    "df_5 = df[df['pure_rating'] == 5]"
   ]
  },
  {
   "cell_type": "code",
   "execution_count": 62,
   "metadata": {},
   "outputs": [
    {
     "data": {
      "text/html": [
       "<div>\n",
       "<style scoped>\n",
       "    .dataframe tbody tr th:only-of-type {\n",
       "        vertical-align: middle;\n",
       "    }\n",
       "\n",
       "    .dataframe tbody tr th {\n",
       "        vertical-align: top;\n",
       "    }\n",
       "\n",
       "    .dataframe thead th {\n",
       "        text-align: right;\n",
       "    }\n",
       "</style>\n",
       "<table border=\"1\" class=\"dataframe\">\n",
       "  <thead>\n",
       "    <tr style=\"text-align: right;\">\n",
       "      <th></th>\n",
       "      <th>word</th>\n",
       "      <th>appears_in</th>\n",
       "      <th>count</th>\n",
       "      <th>rank</th>\n",
       "      <th>pct_total</th>\n",
       "      <th>cul_pct_total</th>\n",
       "      <th>appears_in_pct</th>\n",
       "    </tr>\n",
       "  </thead>\n",
       "  <tbody>\n",
       "    <tr>\n",
       "      <th>15</th>\n",
       "      <td>coffee</td>\n",
       "      <td>303</td>\n",
       "      <td>664</td>\n",
       "      <td>1.0</td>\n",
       "      <td>0.026445</td>\n",
       "      <td>0.026445</td>\n",
       "      <td>0.658696</td>\n",
       "    </tr>\n",
       "    <tr>\n",
       "      <th>95</th>\n",
       "      <td>not</td>\n",
       "      <td>270</td>\n",
       "      <td>557</td>\n",
       "      <td>2.0</td>\n",
       "      <td>0.022183</td>\n",
       "      <td>0.048628</td>\n",
       "      <td>0.586957</td>\n",
       "    </tr>\n",
       "    <tr>\n",
       "      <th>23</th>\n",
       "      <td>place</td>\n",
       "      <td>233</td>\n",
       "      <td>386</td>\n",
       "      <td>3.0</td>\n",
       "      <td>0.015373</td>\n",
       "      <td>0.064001</td>\n",
       "      <td>0.506522</td>\n",
       "    </tr>\n",
       "    <tr>\n",
       "      <th>13</th>\n",
       "      <td>like</td>\n",
       "      <td>189</td>\n",
       "      <td>303</td>\n",
       "      <td>4.0</td>\n",
       "      <td>0.012067</td>\n",
       "      <td>0.076068</td>\n",
       "      <td>0.410870</td>\n",
       "    </tr>\n",
       "    <tr>\n",
       "      <th>8</th>\n",
       "      <td>good</td>\n",
       "      <td>208</td>\n",
       "      <td>293</td>\n",
       "      <td>5.0</td>\n",
       "      <td>0.011669</td>\n",
       "      <td>0.087737</td>\n",
       "      <td>0.452174</td>\n",
       "    </tr>\n",
       "    <tr>\n",
       "      <th>133</th>\n",
       "      <td>order</td>\n",
       "      <td>156</td>\n",
       "      <td>284</td>\n",
       "      <td>6.0</td>\n",
       "      <td>0.011311</td>\n",
       "      <td>0.099048</td>\n",
       "      <td>0.339130</td>\n",
       "    </tr>\n",
       "    <tr>\n",
       "      <th>10</th>\n",
       "      <td>drink</td>\n",
       "      <td>127</td>\n",
       "      <td>223</td>\n",
       "      <td>7.0</td>\n",
       "      <td>0.008881</td>\n",
       "      <td>0.107929</td>\n",
       "      <td>0.276087</td>\n",
       "    </tr>\n",
       "    <tr>\n",
       "      <th>41</th>\n",
       "      <td>come</td>\n",
       "      <td>145</td>\n",
       "      <td>217</td>\n",
       "      <td>8.0</td>\n",
       "      <td>0.008642</td>\n",
       "      <td>0.116572</td>\n",
       "      <td>0.315217</td>\n",
       "    </tr>\n",
       "    <tr>\n",
       "      <th>160</th>\n",
       "      <td>time</td>\n",
       "      <td>136</td>\n",
       "      <td>203</td>\n",
       "      <td>9.0</td>\n",
       "      <td>0.008085</td>\n",
       "      <td>0.124656</td>\n",
       "      <td>0.295652</td>\n",
       "    </tr>\n",
       "    <tr>\n",
       "      <th>39</th>\n",
       "      <td>have</td>\n",
       "      <td>112</td>\n",
       "      <td>157</td>\n",
       "      <td>10.0</td>\n",
       "      <td>0.006253</td>\n",
       "      <td>0.130909</td>\n",
       "      <td>0.243478</td>\n",
       "    </tr>\n",
       "    <tr>\n",
       "      <th>200</th>\n",
       "      <td>shop</td>\n",
       "      <td>114</td>\n",
       "      <td>156</td>\n",
       "      <td>11.0</td>\n",
       "      <td>0.006213</td>\n",
       "      <td>0.137122</td>\n",
       "      <td>0.247826</td>\n",
       "    </tr>\n",
       "    <tr>\n",
       "      <th>1</th>\n",
       "      <td>service</td>\n",
       "      <td>110</td>\n",
       "      <td>153</td>\n",
       "      <td>12.0</td>\n",
       "      <td>0.006093</td>\n",
       "      <td>0.143216</td>\n",
       "      <td>0.239130</td>\n",
       "    </tr>\n",
       "    <tr>\n",
       "      <th>93</th>\n",
       "      <td>be</td>\n",
       "      <td>111</td>\n",
       "      <td>152</td>\n",
       "      <td>13.0</td>\n",
       "      <td>0.006054</td>\n",
       "      <td>0.149269</td>\n",
       "      <td>0.241304</td>\n",
       "    </tr>\n",
       "    <tr>\n",
       "      <th>31</th>\n",
       "      <td>get</td>\n",
       "      <td>107</td>\n",
       "      <td>151</td>\n",
       "      <td>14.0</td>\n",
       "      <td>0.006014</td>\n",
       "      <td>0.155283</td>\n",
       "      <td>0.232609</td>\n",
       "    </tr>\n",
       "    <tr>\n",
       "      <th>298</th>\n",
       "      <td>food</td>\n",
       "      <td>85</td>\n",
       "      <td>147</td>\n",
       "      <td>15.0</td>\n",
       "      <td>0.005854</td>\n",
       "      <td>0.161137</td>\n",
       "      <td>0.184783</td>\n",
       "    </tr>\n",
       "  </tbody>\n",
       "</table>\n",
       "</div>"
      ],
      "text/plain": [
       "        word  appears_in  count  rank  pct_total  cul_pct_total  \\\n",
       "15    coffee         303    664   1.0   0.026445       0.026445   \n",
       "95       not         270    557   2.0   0.022183       0.048628   \n",
       "23     place         233    386   3.0   0.015373       0.064001   \n",
       "13      like         189    303   4.0   0.012067       0.076068   \n",
       "8       good         208    293   5.0   0.011669       0.087737   \n",
       "133    order         156    284   6.0   0.011311       0.099048   \n",
       "10     drink         127    223   7.0   0.008881       0.107929   \n",
       "41      come         145    217   8.0   0.008642       0.116572   \n",
       "160     time         136    203   9.0   0.008085       0.124656   \n",
       "39      have         112    157  10.0   0.006253       0.130909   \n",
       "200     shop         114    156  11.0   0.006213       0.137122   \n",
       "1    service         110    153  12.0   0.006093       0.143216   \n",
       "93        be         111    152  13.0   0.006054       0.149269   \n",
       "31       get         107    151  14.0   0.006014       0.155283   \n",
       "298     food          85    147  15.0   0.005854       0.161137   \n",
       "\n",
       "     appears_in_pct  \n",
       "15         0.658696  \n",
       "95         0.586957  \n",
       "23         0.506522  \n",
       "13         0.410870  \n",
       "8          0.452174  \n",
       "133        0.339130  \n",
       "10         0.276087  \n",
       "41         0.315217  \n",
       "160        0.295652  \n",
       "39         0.243478  \n",
       "200        0.247826  \n",
       "1          0.239130  \n",
       "93         0.241304  \n",
       "31         0.232609  \n",
       "298        0.184783  "
      ]
     },
     "execution_count": 62,
     "metadata": {},
     "output_type": "execute_result"
    }
   ],
   "source": [
    "# Create word count for each rating\n",
    "wc_1 = count(df_1['lemmas'])\n",
    "wc_2 = count(df_2['lemmas'])\n",
    "wc_3 = count(df_3['lemmas'])\n",
    "wc_4 = count(df_4['lemmas'])\n",
    "wc_5 = count(df_5['lemmas'])"
   ]
  },
  {
   "cell_type": "code",
   "execution_count": 63,
   "metadata": {},
   "outputs": [
    {
     "data": {
      "image/png": "[encoded data removed]",
      "text/plain": [
       "<Figure size 576x576 with 1 Axes>"
      ]
     },
     "metadata": {
      "needs_background": "light"
     },
     "output_type": "display_data"
    }
   ],
   "source": [
    "# See a squarify word cloud (top 10) for the 1 star reviews\n",
    "wc1_top10 = wc_1[wc_1['rank'] <= 10]\n",
    "\n",
    "plt.figure(figsize=(8,8))\n",
    "squarify.plot(sizes=wc1_top10['pct_total'], label=wc1_top10['word'], alpha=.8 )\n",
    "plt.axis('off')\n",
    "plt.show()"
   ]
  },
  {
   "cell_type": "code",
   "execution_count": 64,
   "metadata": {},
   "outputs": [
    {
     "data": {
      "text/plain": [
       "(0.0, 100.0, 0.0, 100.0)"
      ]
     },
     "execution_count": 64,
     "metadata": {},
     "output_type": "execute_result"
    },
    {
     "data": {
      "image/png": "[encoded data removed]",
      "text/plain": [
       "<Figure size 576x576 with 1 Axes>"
      ]
     },
     "metadata": {
      "needs_background": "light"
     },
     "output_type": "display_data"
    }
   ],
   "source": [
    "# See a squarify word cloud (top 10) for the 2 star reviews\n",
    "wc2_top10 = wc_2[wc_2['rank'] <= 10]\n",
    "\n",
    "plt.figure(figsize=(8,8))\n",
    "squarify.plot(sizes=wc2_top10['pct_total'], label=wc2_top10['word'], alpha=.8 )\n",
    "plt.axis('off')"
   ]
  },
  {
   "cell_type": "code",
   "execution_count": 65,
   "metadata": {},
   "outputs": [
    {
     "data": {
      "text/plain": [
       "(0.0, 100.0, 0.0, 100.0)"
      ]
     },
     "execution_count": 65,
     "metadata": {},
     "output_type": "execute_result"
    },
    {
     "data": {
      "image/png": "[encoded data removed]",
      "text/plain": [
       "<Figure size 576x576 with 1 Axes>"
      ]
     },
     "metadata": {
      "needs_background": "light"
     },
     "output_type": "display_data"
    }
   ],
   "source": [
    "# See a squarify word cloud (top 10) for the 3 star reviews\n",
    "wc3_top10 = wc_3[wc_3['rank'] <= 10]\n",
    "\n",
    "plt.figure(figsize=(8,8))\n",
    "squarify.plot(sizes=wc3_top10['pct_total'], label=wc3_top10['word'], alpha=.8 )\n",
    "plt.axis('off')"
   ]
  },
  {
   "cell_type": "code",
   "execution_count": 66,
   "metadata": {},
   "outputs": [
    {
     "data": {
      "text/plain": [
       "(0.0, 100.0, 0.0, 100.0)"
      ]
     },
     "execution_count": 66,
     "metadata": {},
     "output_type": "execute_result"
    },
    {
     "data": {
      "image/png": "[encoded data removed]",
      "text/plain": [
       "<Figure size 576x576 with 1 Axes>"
      ]
     },
     "metadata": {
      "needs_background": "light"
     },
     "output_type": "display_data"
    }
   ],
   "source": [
    "# See a squarify word cloud (top 10) for the 4 star reviews\n",
    "wc4_top10 = wc_4[wc_4['rank'] <= 10]\n",
    "\n",
    "plt.figure(figsize=(8,8))\n",
    "squarify.plot(sizes=wc4_top10['pct_total'], label=wc4_top10['word'], alpha=.8 )\n",
    "plt.axis('off')"
   ]
  },
  {
   "cell_type": "code",
   "execution_count": 67,
   "metadata": {},
   "outputs": [
    {
     "data": {
      "text/plain": [
       "(0.0, 100.0, 0.0, 100.0)"
      ]
     },
     "execution_count": 67,
     "metadata": {},
     "output_type": "execute_result"
    },
    {
     "data": {
      "image/png": "[encoded data removed]",
      "text/plain": [
       "<Figure size 576x576 with 1 Axes>"
      ]
     },
     "metadata": {
      "needs_background": "light"
     },
     "output_type": "display_data"
    }
   ],
   "source": [
    "# See a squarify word cloud (top 10) for the 5 star reviews\n",
    "wc5_top10 = wc_5[wc_5['rank'] <= 10]\n",
    "\n",
    "plt.figure(figsize=(8,8))\n",
    "squarify.plot(sizes=wc5_top10['pct_total'], label=wc5_top10['word'], alpha=.8 )\n",
    "plt.axis('off')"
   ]
  },
  {
   "cell_type": "markdown",
   "metadata": {},
   "source": [
    "## Can we visualize the words with the greatest difference in counts between 'good' & 'bad'?\n",
    "\n",
    "Couple Notes: \n",
    "- Rel. freq. instead of absolute counts b/c of different numbers of reviews\n",
    "- Only look at the top 5-10 words with the greatest differences\n"
   ]
  },
  {
   "cell_type": "code",
   "execution_count": 136,
   "metadata": {},
   "outputs": [
    {
     "data": {
      "text/plain": [
       "(0.0, 100.0, 0.0, 100.0)"
      ]
     },
     "execution_count": 136,
     "metadata": {},
     "output_type": "execute_result"
    },
    {
     "data": {
      "image/png": "[encoded data removed]",
      "text/plain": [
       "<Figure size 576x576 with 1 Axes>"
      ]
     },
     "metadata": {
      "needs_background": "light"
     },
     "output_type": "display_data"
    }
   ],
   "source": [
    "# Create dfs for good and bad reviews\n",
    "df_good = df[df['good_bad'] == \"Good\"]\n",
    "df_bad = df[df['good_bad'] == \"Bad\"]\n",
    "wc_good = count(df_good['lemmas'])\n",
    "wc_bad = count(df_bad['lemmas'])\n",
    "\n",
    "# See a squarify word cloud (top 10) for the 5 star reviews\n",
    "wc_good_top05 = wc_good_top05.sort_values(by='appears_in_pct', ascending=False)\n",
    "wc_good_top05 = wc_good_top05.head(5)\n",
    "\n",
    "plt.figure(figsize=(8,8))\n",
    "squarify.plot(sizes=wc_good_top05['pct_total'], label=wc_good_top05['word'], alpha=.8 )\n",
    "plt.axis('off')"
   ]
  },
  {
   "cell_type": "code",
   "execution_count": 137,
   "metadata": {},
   "outputs": [
    {
     "data": {
      "text/plain": [
       "(0.0, 100.0, 0.0, 100.0)"
      ]
     },
     "execution_count": 137,
     "metadata": {},
     "output_type": "execute_result"
    },
    {
     "data": {
      "image/png": "[encoded data removed]",
      "text/plain": [
       "<Figure size 576x576 with 1 Axes>"
      ]
     },
     "metadata": {
      "needs_background": "light"
     },
     "output_type": "display_data"
    }
   ],
   "source": [
    "# See a squarify word cloud (top 10) for the 5 star reviews\n",
    "wc_bad_top05 = wc_bad_top05.sort_values(by='appears_in_pct', ascending=False)\n",
    "wc_bad_top05 = wc_bad_top05.head(5)\n",
    "\n",
    "plt.figure(figsize=(8,8))\n",
    "squarify.plot(sizes=wc_bad_top05['pct_total'], label=wc_bad_top05['word'], alpha=.8 )\n",
    "plt.axis('off')"
   ]
  },
  {
   "cell_type": "markdown",
   "metadata": {
    "colab_type": "text",
    "id": "1dCb1q8XphcP",
    "toc-hr-collapsed": true
   },
   "source": [
    "## Stretch Goals\n",
    "\n",
    "* Analyze another corpus of documents - such as Indeed.com job listings ;).\n",
    "* Play with the Spacy API to\n",
    " - Extract Named Entities\n",
    " - Extracting 'noun chunks'\n",
    " - Attempt Document Classification with just Spacy\n",
    " - *Note:* This [course](https://course.spacy.io/) will be of interesting in helping you with these stretch goals. \n",
    "* Try to build a plotly dash app with your text data \n",
    "\n"
   ]
  }
 ],
 "metadata": {
  "colab": {
   "collapsed_sections": [],
   "name": "LS_DS_421_Text_Data_Assignment.ipynb",
   "provenance": [],
   "version": "0.3.2"
  },
  "kernelspec": {
   "display_name": "Python 3",
   "language": "python",
   "name": "python3"
  },
  "language_info": {
   "codemirror_mode": {
    "name": "ipython",
    "version": 3
   },
   "file_extension": ".py",
   "mimetype": "text/x-python",
   "name": "python",
   "nbconvert_exporter": "python",
   "pygments_lexer": "ipython3",
   "version": "3.7.0"
  },
  "toc-autonumbering": false
 },
 "nbformat": 4,
 "nbformat_minor": 4
}
